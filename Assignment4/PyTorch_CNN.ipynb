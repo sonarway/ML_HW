{
  "nbformat": 4,
  "nbformat_minor": 0,
  "metadata": {
    "accelerator": "GPU",
    "colab": {
      "name": "Копия блокнота \"PyTorch_CNN.ipynb\"",
      "provenance": [],
      "collapsed_sections": [],
      "include_colab_link": true
    },
    "kernelspec": {
      "display_name": "Python 3",
      "language": "python",
      "name": "python3"
    },
    "language_info": {
      "codemirror_mode": {
        "name": "ipython",
        "version": 3
      },
      "file_extension": ".py",
      "mimetype": "text/x-python",
      "name": "python",
      "nbconvert_exporter": "python",
      "pygments_lexer": "ipython3",
      "version": "3.7.3"
    }
  },
  "cells": [
    {
      "cell_type": "markdown",
      "metadata": {
        "id": "view-in-github",
        "colab_type": "text"
      },
      "source": [
        "<a href=\"https://colab.research.google.com/github/sonarway/ML_HW/blob/main/Assignment4/PyTorch_CNN.ipynb\" target=\"_parent\"><img src=\"https://colab.research.google.com/assets/colab-badge.svg\" alt=\"Open In Colab\"/></a>"
      ]
    },
    {
      "cell_type": "markdown",
      "metadata": {
        "id": "jJ8h04dDAUd1"
      },
      "source": [
        "# Задание 4.2 - сверточные нейронные сети (CNNs) в PyTorch\n",
        "\n",
        "Это упражнение мы буде выполнять в Google Colab - https://colab.research.google.com/  \n",
        "Google Colab позволяет запускать код в notebook в облаке Google, где можно воспользоваться бесплатным GPU!  \n"
      ]
    },
    {
      "cell_type": "code",
      "metadata": {
        "colab": {
          "base_uri": "https://localhost:8080/"
        },
        "id": "FcXBeP1O7cnY",
        "outputId": "6617dd9a-4204-4cf2-bcf0-fbd9d336fd50"
      },
      "source": [
        "!git clone https://github.com/sonarway/ML_HW.git\n",
        "%cd ML_HW/Assignment4\n",
        "! wget -c http://ufldl.stanford.edu/housenumbers/train_32x32.mat http://ufldl.stanford.edu/housenumbers/test_32x32.mat\n",
        "%cd ../Assignment4"
      ],
      "execution_count": 1,
      "outputs": [
        {
          "output_type": "stream",
          "text": [
            "Cloning into 'ML_HW'...\n",
            "remote: Enumerating objects: 119, done.\u001b[K\n",
            "remote: Counting objects: 100% (119/119), done.\u001b[K\n",
            "remote: Compressing objects: 100% (95/95), done.\u001b[K\n",
            "remote: Total 119 (delta 42), reused 0 (delta 0), pack-reused 0\u001b[K\n",
            "Receiving objects: 100% (119/119), 933.78 KiB | 7.98 MiB/s, done.\n",
            "Resolving deltas: 100% (42/42), done.\n",
            "/content/ML_HW/Assignment4\n",
            "--2021-03-26 11:10:44--  http://ufldl.stanford.edu/housenumbers/train_32x32.mat\n",
            "Resolving ufldl.stanford.edu (ufldl.stanford.edu)... 171.64.68.10\n",
            "Connecting to ufldl.stanford.edu (ufldl.stanford.edu)|171.64.68.10|:80... connected.\n",
            "HTTP request sent, awaiting response... 200 OK\n",
            "Length: 182040794 (174M) [text/plain]\n",
            "Saving to: ‘train_32x32.mat’\n",
            "\n",
            "train_32x32.mat     100%[===================>] 173.61M  4.82MB/s    in 22s     \n",
            "\n",
            "2021-03-26 11:11:06 (7.90 MB/s) - ‘train_32x32.mat’ saved [182040794/182040794]\n",
            "\n",
            "--2021-03-26 11:11:06--  http://ufldl.stanford.edu/housenumbers/test_32x32.mat\n",
            "Reusing existing connection to ufldl.stanford.edu:80.\n",
            "HTTP request sent, awaiting response... 200 OK\n",
            "Length: 64275384 (61M) [text/plain]\n",
            "Saving to: ‘test_32x32.mat’\n",
            "\n",
            "test_32x32.mat      100%[===================>]  61.30M  59.4MB/s    in 1.0s    \n",
            "\n",
            "2021-03-26 11:11:08 (59.4 MB/s) - ‘test_32x32.mat’ saved [64275384/64275384]\n",
            "\n",
            "FINISHED --2021-03-26 11:11:08--\n",
            "Total wall clock time: 23s\n",
            "Downloaded: 2 files, 235M in 23s (10.2 MB/s)\n",
            "/content/ML_HW/Assignment4\n"
          ],
          "name": "stdout"
        }
      ]
    },
    {
      "cell_type": "code",
      "metadata": {
        "id": "-afwWw-Q85vD"
      },
      "source": [
        "from collections import namedtuple\n",
        "\n",
        "import matplotlib.pyplot as plt\n",
        "import numpy as np\n",
        "import PIL\n",
        "import torch\n",
        "import torch.nn as nn\n",
        "import torch.optim as optim\n",
        "import torchvision.datasets as dset\n",
        "from torch.utils.data.sampler import SubsetRandomSampler\n",
        "\n",
        "from torchvision import transforms"
      ],
      "execution_count": 2,
      "outputs": []
    },
    {
      "cell_type": "code",
      "metadata": {
        "id": "NNU-OD9O9ltP"
      },
      "source": [
        "device = torch.device(\"cuda:0\") # Let's make sure GPU is available!"
      ],
      "execution_count": 3,
      "outputs": []
    },
    {
      "cell_type": "markdown",
      "metadata": {
        "id": "zVAVCTP_AUd7"
      },
      "source": [
        "# Загружаем данные"
      ]
    },
    {
      "cell_type": "code",
      "metadata": {
        "id": "YAvkoRx-9FsP"
      },
      "source": [
        "# First, lets load the dataset\n",
        "data_train = dset.SVHN('../Assignment4',\n",
        "                       transform=transforms.Compose([\n",
        "                           transforms.ToTensor(),\n",
        "                           transforms.Normalize(mean=[0.43,0.44,0.47],\n",
        "                                               std=[0.20,0.20,0.20])                           \n",
        "                       ])\n",
        "                      )\n",
        "data_test = dset.SVHN('../Assignment4', split='test', transform=transforms.Compose([\n",
        "                           transforms.ToTensor(),\n",
        "                           transforms.Normalize(mean=[0.43,0.44,0.47],\n",
        "                                               std=[0.20,0.20,0.20])                           \n",
        "                       ]))"
      ],
      "execution_count": 4,
      "outputs": []
    },
    {
      "cell_type": "markdown",
      "metadata": {
        "id": "NK_EjrCTAUd8"
      },
      "source": [
        "Разделяем данные на training и validation.\n",
        "\n",
        "На всякий случай для подробностей - https://pytorch.org/tutorials/beginner/data_loading_tutorial.html"
      ]
    },
    {
      "cell_type": "code",
      "metadata": {
        "id": "YRnr8CPg7Hli"
      },
      "source": [
        "batch_size = 64\n",
        "\n",
        "data_size = data_train.data.shape[0]\n",
        "validation_split = .2\n",
        "split = int(np.floor(validation_split * data_size))\n",
        "indices = list(range(data_size))\n",
        "np.random.shuffle(indices)\n",
        "\n",
        "train_indices, val_indices = indices[split:], indices[:split]\n",
        "\n",
        "train_sampler = SubsetRandomSampler(train_indices)\n",
        "val_sampler = SubsetRandomSampler(val_indices)\n",
        "\n",
        "train_loader = torch.utils.data.DataLoader(data_train, batch_size=batch_size, \n",
        "                                           sampler=train_sampler)\n",
        "val_loader = torch.utils.data.DataLoader(data_train, batch_size=batch_size,\n",
        "                                         sampler=val_sampler)"
      ],
      "execution_count": 5,
      "outputs": []
    },
    {
      "cell_type": "code",
      "metadata": {
        "id": "LyYvt-T67PBG"
      },
      "source": [
        "# We'll use a special helper module to shape it into a flat tensor\n",
        "class Flattener(nn.Module):\n",
        "    def forward(self, x):\n",
        "        batch_size, *_ = x.shape\n",
        "        return x.view(batch_size, -1)"
      ],
      "execution_count": 6,
      "outputs": []
    },
    {
      "cell_type": "markdown",
      "metadata": {
        "id": "aNVRtSwNAUd9"
      },
      "source": [
        "Создадим простейшую сеть с новыми слоями:  \n",
        "Convolutional - `nn.Conv2d`  \n",
        "MaxPool - `nn.MaxPool2d`"
      ]
    },
    {
      "cell_type": "code",
      "metadata": {
        "id": "w9SFVGZP7SQd"
      },
      "source": [
        "nn_model = nn.Sequential(\n",
        "            nn.Conv2d(3, 64, 3, padding=1),\n",
        "            nn.ReLU(inplace=True),\n",
        "            nn.MaxPool2d(4),\n",
        "            nn.Conv2d(64, 64, 3, padding=1),\n",
        "            nn.ReLU(inplace=True),\n",
        "            nn.MaxPool2d(4),    \n",
        "            Flattener(),\n",
        "            nn.Linear(64*2*2, 10),\n",
        "          )\n",
        "\n",
        "nn_model.type(torch.cuda.FloatTensor)\n",
        "nn_model.to(device)\n",
        "\n",
        "loss = nn.CrossEntropyLoss().type(torch.cuda.FloatTensor)\n",
        "optimizer = optim.SGD(nn_model.parameters(), lr=1e-1, weight_decay=1e-4)"
      ],
      "execution_count": 7,
      "outputs": []
    },
    {
      "cell_type": "code",
      "metadata": {
        "colab": {
          "base_uri": "https://localhost:8080/"
        },
        "id": "B9rIbd2zOOm4",
        "outputId": "01e7a263-f235-4d8a-9cda-68ef48e4cd06"
      },
      "source": [
        "nn_model.parameters().__next__()"
      ],
      "execution_count": 8,
      "outputs": [
        {
          "output_type": "execute_result",
          "data": {
            "text/plain": [
              "Parameter containing:\n",
              "tensor([[[[-0.0418,  0.1003, -0.0044],\n",
              "          [-0.0647,  0.1331,  0.1092],\n",
              "          [ 0.1415,  0.0384, -0.0852]],\n",
              "\n",
              "         [[ 0.1919, -0.0888,  0.1140],\n",
              "          [-0.0757, -0.0934, -0.1676],\n",
              "          [ 0.0975, -0.1832, -0.1002]],\n",
              "\n",
              "         [[-0.1074,  0.1503, -0.1630],\n",
              "          [-0.0265, -0.0877, -0.0652],\n",
              "          [ 0.1681,  0.1193,  0.1400]]],\n",
              "\n",
              "\n",
              "        [[[-0.0993, -0.0466,  0.0305],\n",
              "          [ 0.0518, -0.0273,  0.1117],\n",
              "          [ 0.0647, -0.0761,  0.0498]],\n",
              "\n",
              "         [[-0.1255,  0.0008, -0.1886],\n",
              "          [-0.0641,  0.0263,  0.0984],\n",
              "          [ 0.0318, -0.0867,  0.1058]],\n",
              "\n",
              "         [[ 0.0034, -0.0196, -0.1272],\n",
              "          [ 0.1638,  0.1402,  0.1640],\n",
              "          [-0.0087, -0.0053, -0.1273]]],\n",
              "\n",
              "\n",
              "        [[[-0.0946,  0.0566,  0.1697],\n",
              "          [ 0.1751, -0.1015,  0.0224],\n",
              "          [-0.0453,  0.0137, -0.0896]],\n",
              "\n",
              "         [[-0.0251,  0.0134, -0.0086],\n",
              "          [-0.1266, -0.1078, -0.1895],\n",
              "          [ 0.0604,  0.0979, -0.1835]],\n",
              "\n",
              "         [[-0.1698, -0.1016, -0.0873],\n",
              "          [-0.1406,  0.1667, -0.0664],\n",
              "          [-0.0127, -0.1563,  0.0886]]],\n",
              "\n",
              "\n",
              "        ...,\n",
              "\n",
              "\n",
              "        [[[-0.1490,  0.1558, -0.1100],\n",
              "          [ 0.0556,  0.1116,  0.1653],\n",
              "          [-0.1839,  0.0406, -0.0615]],\n",
              "\n",
              "         [[ 0.1168,  0.0241,  0.1664],\n",
              "          [-0.0657, -0.1902,  0.1548],\n",
              "          [-0.0131,  0.0259,  0.0155]],\n",
              "\n",
              "         [[ 0.0422,  0.0391, -0.0161],\n",
              "          [ 0.1904, -0.1001,  0.0762],\n",
              "          [-0.0310,  0.1661,  0.0527]]],\n",
              "\n",
              "\n",
              "        [[[-0.0983, -0.1878, -0.0415],\n",
              "          [-0.1595,  0.1722,  0.0861],\n",
              "          [-0.0589,  0.1439,  0.1046]],\n",
              "\n",
              "         [[-0.0098,  0.0957,  0.0557],\n",
              "          [-0.1005, -0.0252,  0.0050],\n",
              "          [-0.0382,  0.1430, -0.0998]],\n",
              "\n",
              "         [[-0.1838, -0.0322, -0.1644],\n",
              "          [-0.0189,  0.0572,  0.0988],\n",
              "          [-0.0799,  0.0142, -0.1668]]],\n",
              "\n",
              "\n",
              "        [[[ 0.0326, -0.1629,  0.1703],\n",
              "          [ 0.0187,  0.1470, -0.0630],\n",
              "          [ 0.1877, -0.0619,  0.0814]],\n",
              "\n",
              "         [[ 0.1338, -0.1441, -0.0016],\n",
              "          [ 0.1797,  0.0646,  0.0714],\n",
              "          [ 0.1243, -0.0667, -0.1786]],\n",
              "\n",
              "         [[-0.0885,  0.0985,  0.0053],\n",
              "          [-0.1495,  0.0505,  0.1648],\n",
              "          [ 0.1065, -0.1032,  0.0039]]]], device='cuda:0', requires_grad=True)"
            ]
          },
          "metadata": {
            "tags": []
          },
          "execution_count": 8
        }
      ]
    },
    {
      "cell_type": "markdown",
      "metadata": {
        "id": "dDlo7pH0AUd-"
      },
      "source": [
        "Восстановите функцию `compute_accuracy` из прошлого задания.  \n",
        "Единственное отличие в новом - она должна передать данные на GPU прежде чем прогонять через модель. Сделайте это так же, как это делает функция `train_model`"
      ]
    },
    {
      "cell_type": "code",
      "metadata": {
        "id": "2ek3KVQK7hJ6",
        "colab": {
          "base_uri": "https://localhost:8080/"
        },
        "outputId": "fc016af0-3b7c-4aee-ad91-d020aa532747"
      },
      "source": [
        "def train_model(model, train_loader, val_loader, loss, optimizer, num_epochs):    \n",
        "    loss_history = []\n",
        "    train_history = []\n",
        "    val_history = []\n",
        "    for epoch in range(num_epochs):\n",
        "        model.train() # Enter train mode\n",
        "        \n",
        "        loss_accum = 0\n",
        "        correct_samples = 0\n",
        "        total_samples = 0\n",
        "        for i_step, (x, y) in enumerate(train_loader):\n",
        "          \n",
        "            x_gpu = x.to(device)\n",
        "            y_gpu = y.to(device)\n",
        "            prediction = model(x_gpu)    \n",
        "            loss_value = loss(prediction, y_gpu)\n",
        "            optimizer.zero_grad()\n",
        "            loss_value.backward()\n",
        "            optimizer.step()\n",
        "            \n",
        "            _, indices = torch.max(prediction, 1)\n",
        "            correct_samples += torch.sum(indices == y_gpu)\n",
        "            total_samples += y.shape[0]\n",
        "            \n",
        "            loss_accum += loss_value\n",
        "\n",
        "        ave_loss = loss_accum / i_step\n",
        "        train_accuracy = float(correct_samples) / total_samples\n",
        "        val_accuracy = compute_accuracy(model, val_loader)\n",
        "        \n",
        "        loss_history.append(float(ave_loss))\n",
        "        train_history.append(train_accuracy)\n",
        "        val_history.append(val_accuracy)\n",
        "        \n",
        "        print(\"Average loss: %f, Train accuracy: %f, Val accuracy: %f\" % (ave_loss, train_accuracy, val_accuracy))\n",
        "        \n",
        "    return loss_history, train_history, val_history\n",
        "        \n",
        "def compute_accuracy(model, loader):\n",
        "    \"\"\"\n",
        "    Computes accuracy on the dataset wrapped in a loader\n",
        "    \n",
        "    Returns: accuracy as a float value between 0 and 1\n",
        "    \"\"\"\n",
        "    model.eval() # Evaluation mode\n",
        "    # TODO: Copy implementation from previous assignment\n",
        "    # Don't forget to move the data to device before running it through the model!\n",
        "    correct_samples = 0\n",
        "    total_samples = 0\n",
        "    for i_step, (x, y) in enumerate(loader):\n",
        "      x_gpu = x.to(device)\n",
        "      y_gpu = y.to(device)\n",
        "      prediction = model(x_gpu) \n",
        "      _, indices = torch.max(prediction, 1)\n",
        "      correct_samples += torch.sum(indices == y_gpu)\n",
        "      total_samples += y_gpu.shape[0]\n",
        "    accuracy = float(correct_samples) / total_samples\n",
        "    #raise Exception(\"Not implemented\")\n",
        "    return accuracy\n",
        "\n",
        "loss_history, train_history, val_history = train_model(nn_model, train_loader, val_loader, loss, optimizer, 5)"
      ],
      "execution_count": 9,
      "outputs": [
        {
          "output_type": "stream",
          "text": [
            "Average loss: 1.427400, Train accuracy: 0.521790, Val accuracy: 0.755989\n",
            "Average loss: 0.712028, Train accuracy: 0.783060, Val accuracy: 0.775783\n",
            "Average loss: 0.610239, Train accuracy: 0.817476, Val accuracy: 0.790321\n",
            "Average loss: 0.559214, Train accuracy: 0.834283, Val accuracy: 0.822742\n",
            "Average loss: 0.517194, Train accuracy: 0.846637, Val accuracy: 0.839670\n"
          ],
          "name": "stdout"
        }
      ]
    },
    {
      "cell_type": "markdown",
      "metadata": {
        "id": "6a-3a1ZFGEw_"
      },
      "source": [
        "# Аугментация данных (Data augmentation)\n",
        "\n",
        "В работе с изображениями одним из особенно важных методов является аугментация данных - то есть, генерация дополнительных данных для тренировки на основе изначальных.   \n",
        "Таким образом, мы получаем возможность \"увеличить\" набор данных для тренировки, что ведет к лучшей работе сети.\n",
        "Важно, чтобы аугментированные данные были похожи на те, которые могут встретиться в реальной жизни, иначе польза от аугментаций уменьшается и может ухудшить работу сети.\n",
        "\n",
        "С PyTorch идут несколько таких алгоритмов, называемых `transforms`. Более подробно про них можно прочитать тут -\n",
        "https://pytorch.org/tutorials/beginner/data_loading_tutorial.html#transforms\n",
        "\n",
        "Ниже мы используем следующие алгоритмы генерации:\n",
        "- ColorJitter - случайное изменение цвета\n",
        "- RandomHorizontalFlip - горизонтальное отражение с вероятностью 50%\n",
        "- RandomVerticalFlip - вертикальное отражение с вероятностью 50%\n",
        "- RandomRotation - случайный поворот"
      ]
    },
    {
      "cell_type": "code",
      "metadata": {
        "id": "jCWMUWmr7t5g",
        "colab": {
          "base_uri": "https://localhost:8080/"
        },
        "outputId": "bdec9d7c-d3e6-4555-f4ed-b70595dd4ffc"
      },
      "source": [
        "tfs = transforms.Compose([\n",
        "    transforms.ColorJitter(hue=.50, saturation=.50),\n",
        "    transforms.RandomHorizontalFlip(),\n",
        "    transforms.RandomVerticalFlip(),\n",
        "    transforms.RandomRotation(50, resample=PIL.Image.BILINEAR),\n",
        "    transforms.ToTensor(),\n",
        "    transforms.Normalize(mean=[0.43,0.44,0.47],\n",
        "                       std=[0.20,0.20,0.20])                           \n",
        "])\n",
        "\n",
        "# Create augmented train dataset\n",
        "data_aug_train = dset.SVHN('./', \n",
        "                       transform=tfs\n",
        "                      )\n",
        "\n",
        "train_aug_loader = torch.utils.data.DataLoader(data_aug_train, batch_size=batch_size, \n",
        "                                           sampler=train_sampler)"
      ],
      "execution_count": 10,
      "outputs": [
        {
          "output_type": "stream",
          "text": [
            "/usr/local/lib/python3.7/dist-packages/torchvision/transforms/transforms.py:1201: UserWarning: Argument resample is deprecated and will be removed since v0.10.0. Please, use interpolation instead\n",
            "  \"Argument resample is deprecated and will be removed since v0.10.0. Please, use interpolation instead\"\n"
          ],
          "name": "stderr"
        }
      ]
    },
    {
      "cell_type": "markdown",
      "metadata": {
        "id": "HrI77YsIAUd_"
      },
      "source": [
        "Визуализируем результаты агментации (вообще, смотреть на сгенерированные данные всегда очень полезно)."
      ]
    },
    {
      "cell_type": "code",
      "metadata": {
        "id": "YlJJEro1KZ45",
        "colab": {
          "base_uri": "https://localhost:8080/",
          "height": 207
        },
        "outputId": "60d29ec9-f32c-4821-a540-3b82b7b129fc"
      },
      "source": [
        "# TODO: Visualize some augmented images!\n",
        "# hint: you can create new datasets and loaders to accomplish this\n",
        "\n",
        "# Based on the visualizations, should we keep all the augmentations?\n",
        "\n",
        "tfs = transforms.Compose([\n",
        "    transforms.ColorJitter(hue=.20, saturation=.20),\n",
        "    transforms.RandomHorizontalFlip(),\n",
        "    transforms.RandomVerticalFlip(),\n",
        "    transforms.RandomRotation(5, resample=PIL.Image.BILINEAR),\n",
        "])\n",
        "\n",
        "data_aug_vis = dset.SVHN('./', \n",
        "                       transform=tfs\n",
        "                      )\n",
        "\n",
        "plt.figure(figsize=(30, 3))\n",
        "\n",
        "for i, (x, y) in enumerate(data_aug_vis):\n",
        "    if i == 10:\n",
        "        break\n",
        "    plt.subplot(1, 10, i+1)\n",
        "    plt.grid(False)\n",
        "    plt.imshow(x)\n",
        "    plt.axis('off')"
      ],
      "execution_count": 11,
      "outputs": [
        {
          "output_type": "stream",
          "text": [
            "/usr/local/lib/python3.7/dist-packages/torchvision/transforms/transforms.py:1201: UserWarning: Argument resample is deprecated and will be removed since v0.10.0. Please, use interpolation instead\n",
            "  \"Argument resample is deprecated and will be removed since v0.10.0. Please, use interpolation instead\"\n"
          ],
          "name": "stderr"
        },
        {
          "output_type": "display_data",
          "data": {
            "image/png": "[encoded data removed]",
            "text/plain": [
              "<Figure size 2160x216 with 10 Axes>"
            ]
          },
          "metadata": {
            "tags": [],
            "needs_background": "light"
          }
        }
      ]
    },
    {
      "cell_type": "markdown",
      "metadata": {
        "id": "o2LrmsYHoguB"
      },
      "source": [
        "Все ли агментации одинаково полезны на этом наборе данных? Могут ли быть среди них те, которые собьют модель с толку?\n",
        "\n",
        "Выберите из них только корректные"
      ]
    },
    {
      "cell_type": "code",
      "metadata": {
        "id": "evro9ksXGs9u"
      },
      "source": [
        "# TODO:\n",
        "tfs = transforms.Compose([\n",
        "    transforms.ColorJitter(hue=.50, saturation=.30),\n",
        "    transforms.RandomHorizontalFlip(),\n",
        "    transforms.RandomRotation(12, resample=PIL.Image.BILINEAR),\n",
        "    transforms.ToTensor(),\n",
        "    transforms.Normalize(mean=[0.43,0.44,0.47],\n",
        "                       std=[0.20,0.20,0.20])                           \n",
        "]) #val accuracy: 0.812709\n",
        "\n",
        "\n",
        "# TODO create new instances of loaders with the augmentations you chose\n",
        "data_aug_train = dset.SVHN('./', \n",
        "                       transform=tfs\n",
        "                      )\n",
        "\n",
        "train_aug_loader = torch.utils.data.DataLoader(data_aug_train, batch_size=batch_size, \n",
        "                                           sampler=train_sampler)"
      ],
      "execution_count": null,
      "outputs": []
    },
    {
      "cell_type": "code",
      "metadata": {
        "id": "PeO6Zw0DHqPR",
        "colab": {
          "base_uri": "https://localhost:8080/"
        },
        "outputId": "5ee53419-f604-4a06-a1fe-5e7b33974289"
      },
      "source": [
        "# Finally, let's train with augmentations!\n",
        "\n",
        "# Note we shouldn't use augmentations on validation\n",
        "\n",
        "loss_history, train_history, val_history = train_model(nn_model, train_aug_loader, val_loader, loss, optimizer, 5)"
      ],
      "execution_count": 13,
      "outputs": [
        {
          "output_type": "stream",
          "text": [
            "Average loss: 1.072237, Train accuracy: 0.649285, Val accuracy: 0.696813\n",
            "Average loss: 0.890554, Train accuracy: 0.712316, Val accuracy: 0.756262\n",
            "Average loss: 0.833085, Train accuracy: 0.732178, Val accuracy: 0.749027\n",
            "Average loss: 0.798626, Train accuracy: 0.743763, Val accuracy: 0.775510\n",
            "Average loss: 0.776956, Train accuracy: 0.752636, Val accuracy: 0.766637\n"
          ],
          "name": "stdout"
        }
      ]
    },
    {
      "cell_type": "markdown",
      "metadata": {
        "id": "r0bcioK6JBDK"
      },
      "source": [
        "# LeNet\n",
        "Попробуем имплементировать классическую архитектуру сверточной нейронной сети, предложенную Яном ЛеКуном в 1998 году. В свое время она достигла впечатляющих результатов на MNIST, посмотрим как она справится с SVHN?\n",
        "Она описана в статье [\"Gradient Based Learning Applied to Document Recognition\"](http://yann.lecun.com/exdb/publis/pdf/lecun-01a.pdf), попробуйте прочитать ключевые части и имплементировать предложенную архитетуру на PyTorch.\n",
        "\n",
        "Реализовывать слои и функцию ошибки LeNet, которых нет в PyTorch, **не нужно** - просто возьмите их размеры и переведите в уже известные нам Convolutional, Pooling и Fully Connected layers.\n",
        "\n",
        "Если в статье не очень понятно, можно просто погуглить LeNet и разобраться в деталях :)"
      ]
    },
    {
      "cell_type": "code",
      "metadata": {
        "id": "ieEzZUglJAUB"
      },
      "source": [
        "# TODO: Implement LeNet-like architecture for SVHN task\n",
        "lenet_model = nn.Sequential(\n",
        "            nn.Conv2d(3, 6, 5),\n",
        "            nn.ReLU(inplace=True),\n",
        "            nn.MaxPool2d(2, stride=2),\n",
        "            nn.Conv2d(6, 16, 5),\n",
        "            nn.ReLU(inplace=True),\n",
        "            nn.MaxPool2d(2, stride=2),   \n",
        "            nn.Conv2d(16, 120, 5),\n",
        "            nn.ReLU(inplace=True),\n",
        "            Flattener(),\n",
        "            nn.Linear(120, 84),\n",
        "            nn.ReLU(inplace=True),\n",
        "            nn.Linear(84, 10)\n",
        "            )\n",
        "\n",
        "lenet_model.type(torch.cuda.FloatTensor)\n",
        "lenet_model.to(device)\n",
        "\n",
        "loss = nn.CrossEntropyLoss().type(torch.cuda.FloatTensor)\n",
        "optimizer = optim.SGD(lenet_model.parameters(), lr=1e-1, weight_decay=1e-4)"
      ],
      "execution_count": 14,
      "outputs": []
    },
    {
      "cell_type": "code",
      "metadata": {
        "id": "WMmaPfdeKk9H",
        "outputId": "fb0b5c5f-1d6f-4925-e0eb-384a0f64ed87",
        "colab": {
          "base_uri": "https://localhost:8080/"
        }
      },
      "source": [
        "# Let's train it!\n",
        "loss_history, train_history, val_history = train_model(lenet_model, train_aug_loader, val_loader, loss, optimizer, 10)"
      ],
      "execution_count": 15,
      "outputs": [
        {
          "output_type": "stream",
          "text": [
            "Average loss: 1.721905, Train accuracy: 0.399413, Val accuracy: 0.622688\n",
            "Average loss: 0.807407, Train accuracy: 0.746630, Val accuracy: 0.787455\n",
            "Average loss: 0.656356, Train accuracy: 0.795977, Val accuracy: 0.823971\n",
            "Average loss: 0.586741, Train accuracy: 0.819609, Val accuracy: 0.842127\n",
            "Average loss: 0.544301, Train accuracy: 0.831502, Val accuracy: 0.841717\n",
            "Average loss: 0.508528, Train accuracy: 0.844879, Val accuracy: 0.853252\n",
            "Average loss: 0.489282, Train accuracy: 0.849299, Val accuracy: 0.853525\n",
            "Average loss: 0.469480, Train accuracy: 0.856619, Val accuracy: 0.860829\n",
            "Average loss: 0.449260, Train accuracy: 0.861891, Val accuracy: 0.866630\n",
            "Average loss: 0.446403, Train accuracy: 0.863546, Val accuracy: 0.864856\n"
          ],
          "name": "stdout"
        }
      ]
    },
    {
      "cell_type": "markdown",
      "metadata": {
        "id": "u_O9qiYySvuj"
      },
      "source": [
        "# Подбор гиперпараметров"
      ]
    },
    {
      "cell_type": "code",
      "metadata": {
        "id": "i6mhfdQ9K-N3"
      },
      "source": [
        "# The key hyperparameters we're going to tune are learning speed, annealing rate and regularization\n",
        "# We also encourage you to try different optimizers as well\n",
        "\n",
        "Hyperparams = namedtuple(\"Hyperparams\", ['learning_rate', 'anneal_epochs', 'reg'])\n",
        "RunResult = namedtuple(\"RunResult\", ['model', 'train_history', 'val_history', 'final_val_accuracy'])\n",
        "\n",
        "learning_rates = [1e0, 1e-1, 1e-2, 1e-3, 1e-4]\n",
        "anneal_coeff = 0.2\n",
        "anneal_epochs = [1, 5, 10, 15, 20, 50]\n",
        "reg = [1e-3, 1e-4, 1e-5, 1e-7]\n",
        "\n",
        "batch_size = 64\n",
        "epoch_num = 10\n",
        "\n",
        "# Record all the runs here\n",
        "# Key should be Hyperparams and values should be RunResult\n",
        "run_record = {} \n",
        "\n",
        "# Use grid search or random search and record all runs in run_record dictionnary \n",
        "# Important: perform search in logarithmic space!\n",
        "\n",
        "# TODO: Your code here!\n",
        "\n",
        "# import random\n",
        "# params_grid = [learning_rates, anneal_epochs, reg]\n",
        "\n",
        "# n_results = 10\n",
        "# for i in range(n_results):\n",
        "#     params = [random.sample(param, 1)[0] for param in params_grid]\n",
        "#     print(f\"lr={params[0]}, anneal_epochs={params[1]}, reg={params[2]}\")\n",
        "    \n",
        "#     optimizer = optim.SGD(lenet_model.parameters(), lr=params[0], weight_decay=params[2])\n",
        "#     _, train_history, val_history = train_model(lenet_model, train_aug_loader, val_loader, \n",
        "#                                                 loss, optimizer, epoch_num)\n",
        "#     run_record[Hyperparams(*params)] = RunResult(lenet_model, train_history, \n",
        "#                                                  val_history, val_history[-1])"
      ],
      "execution_count": null,
      "outputs": []
    },
    {
      "cell_type": "code",
      "metadata": {
        "id": "Y6xExdw8JB1l"
      },
      "source": [
        "best_val_accuracy = None\n",
        "best_hyperparams = None\n",
        "best_run = None\n",
        "\n",
        "for hyperparams, run_result in run_record.items():\n",
        "    if best_val_accuracy is None or best_val_accuracy < run_result.final_val_accuracy:\n",
        "        best_val_accuracy = run_result.final_val_accuracy\n",
        "        best_hyperparams = hyperparams\n",
        "        best_run = run_result\n",
        "        \n",
        "print(\"Best validation accuracy: %4.2f, best hyperparams: %s\" % (best_val_accuracy, best_hyperparams))\n",
        "        "
      ],
      "execution_count": null,
      "outputs": []
    },
    {
      "cell_type": "markdown",
      "metadata": {
        "id": "LOmsR0uVgtgf"
      },
      "source": [
        "# Свободное упражнение - догоним и перегоним LeNet!\n",
        "\n",
        "Попробуйте найти архитектуру и настройки тренировки, чтобы выступить лучше наших бейзлайнов.\n",
        "\n",
        "Что можно и нужно попробовать:\n",
        "- BatchNormalization (для convolution layers он в PyTorch называется [batchnorm2d](https://pytorch.org/docs/stable/nn.html#batchnorm2d))\n",
        "- Изменить количество слоев и их толщину\n",
        "- Изменять количество эпох тренировки\n",
        "- Попробовать и другие агментации"
      ]
    },
    {
      "cell_type": "code",
      "metadata": {
        "id": "tSVhD747icoc"
      },
      "source": [
        "best_model = None"
      ],
      "execution_count": null,
      "outputs": []
    },
    {
      "cell_type": "markdown",
      "metadata": {
        "id": "ubeKgBcnhx7N"
      },
      "source": [
        "# Финальный аккорд - проверим лучшую модель на test set\n",
        "\n",
        "В качестве разнообразия - напишите код для прогона модели на test set вы.\n",
        "\n",
        "В результате вы должны натренировать модель, которая покажет более **90%** точности на test set.  \n",
        "Как водится, лучший результат в группе получит дополнительные баллы!"
      ]
    },
    {
      "cell_type": "code",
      "metadata": {
        "id": "EIqM1kdeh-hd"
      },
      "source": [
        "# TODO Write the code to compute accuracy on test set\n",
        "final_test_accuracy = 0.0\n",
        "print(\"Final test accuracy - \", final_test_accuracy)"
      ],
      "execution_count": null,
      "outputs": []
    },
    {
      "cell_type": "code",
      "metadata": {
        "id": "BfH6qip6kVX_"
      },
      "source": [
        ""
      ],
      "execution_count": null,
      "outputs": []
    }
  ]
}